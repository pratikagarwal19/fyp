{
 "cells": [
  {
   "cell_type": "code",
   "execution_count": 1,
   "metadata": {},
   "outputs": [
    {
     "ename": "ModuleNotFoundError",
     "evalue": "No module named 'mrcnn'",
     "output_type": "error",
     "traceback": [
      "\u001b[1;31m---------------------------------------------------------------------------\u001b[0m",
      "\u001b[1;31mModuleNotFoundError\u001b[0m                       Traceback (most recent call last)",
      "\u001b[1;32m<ipython-input-1-96fc27adc23d>\u001b[0m in \u001b[0;36m<module>\u001b[1;34m\u001b[0m\n\u001b[0;32m      1\u001b[0m \u001b[1;32mimport\u001b[0m \u001b[0mcv2\u001b[0m\u001b[1;33m\u001b[0m\u001b[1;33m\u001b[0m\u001b[0m\n\u001b[1;32m----> 2\u001b[1;33m \u001b[1;32mfrom\u001b[0m \u001b[0mmrcnn\u001b[0m \u001b[1;32mimport\u001b[0m \u001b[0mvisualize\u001b[0m\u001b[1;33m\u001b[0m\u001b[1;33m\u001b[0m\u001b[0m\n\u001b[0m\u001b[0;32m      3\u001b[0m \u001b[1;31m#from visualize_cv2 import model, display_instances, class_names\u001b[0m\u001b[1;33m\u001b[0m\u001b[1;33m\u001b[0m\u001b[1;33m\u001b[0m\u001b[0m\n\u001b[0;32m      4\u001b[0m \u001b[1;32mimport\u001b[0m \u001b[0msys\u001b[0m\u001b[1;33m\u001b[0m\u001b[1;33m\u001b[0m\u001b[0m\n\u001b[0;32m      5\u001b[0m \u001b[1;33m\u001b[0m\u001b[0m\n",
      "\u001b[1;31mModuleNotFoundError\u001b[0m: No module named 'mrcnn'"
     ]
    }
   ],
   "source": [
    "import cv2\n",
    "from mrcnn import visualize\n",
    "#from visualize_cv2 import model, display_instances, class_names\n",
    "import sys\n",
    "\t\n",
    "stream = cv2.VideoCapture('veido1.mp4')\n",
    "width, height = stream.get(cv2.CAP_PROP_FRAME_WIDTH), stream.get(cv2.CAP_PROP_FRAME_HEIGHT)\n",
    "out = cv2.VideoWriter('out.avi',cv2.VideoWriter_fourcc('M','J','P','G'), 30, (int(width),int(height)))\n",
    "while True:\n",
    "\tret , frame = stream.read()\n",
    "\t\n",
    "\tresults = visualize.model.detect([frame], verbose=0)\n",
    "\n",
    "\t# Visualize results\n",
    "\tr = results[0]\n",
    "\tmasked_image = visualize.display_instances(frame, r['rois'], r['masks'], r['class_ids'], \n",
    "                            visualize_cv2.class_names, r['scores'])\n",
    "\tcv2.namedWindow(\"masked_image\", cv2.WINDOW_NORMAL)\n",
    "\tcv2.imshow(\"masked_image\",masked_image)\n",
    "\tout.write(masked_image)\n",
    "\tif(cv2.waitKey(1) & 0xFF == ord('q')):\n",
    "\t\tbreak\n",
    "stream.release()\n",
    "cv2.destroyWindow(\"masked_image\")"
   ]
  },
  {
   "cell_type": "code",
   "execution_count": null,
   "metadata": {},
   "outputs": [],
   "source": []
  },
  {
   "cell_type": "code",
   "execution_count": null,
   "metadata": {},
   "outputs": [],
   "source": []
  }
 ],
 "metadata": {
  "kernelspec": {
   "display_name": "Python 3",
   "language": "python",
   "name": "python3"
  },
  "language_info": {
   "codemirror_mode": {
    "name": "ipython",
    "version": 3
   },
   "file_extension": ".py",
   "mimetype": "text/x-python",
   "name": "python",
   "nbconvert_exporter": "python",
   "pygments_lexer": "ipython3",
   "version": "3.7.3"
  }
 },
 "nbformat": 4,
 "nbformat_minor": 2
}
