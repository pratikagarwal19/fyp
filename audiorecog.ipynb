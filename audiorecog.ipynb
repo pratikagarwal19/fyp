{
 "cells": [
  {
   "cell_type": "code",
   "execution_count": 1,
   "metadata": {},
   "outputs": [
    {
     "name": "stderr",
     "output_type": "stream",
     "text": [
      "C:\\Users\\anush\\Anaconda3\\lib\\site-packages\\pydub\\utils.py:165: RuntimeWarning: Couldn't find ffmpeg or avconv - defaulting to ffmpeg, but may not work\n",
      "  warn(\"Couldn't find ffmpeg or avconv - defaulting to ffmpeg, but may not work\", RuntimeWarning)\n"
     ]
    }
   ],
   "source": [
    "from pydub import AudioSegment \n",
    "import speech_recognition as sr \n",
    "import csv\n",
    "import sys\n",
    "from moviepy.editor import *\n",
    "def audio_detection(video):\n",
    "    audio = video.audio\n",
    "    audio.write_audiofile('audio.wav')\n",
    "    audio = AudioSegment.from_wav(\"audio.wav\")  \n",
    "    n = len(audio) \n",
    "    counter = 1\n",
    "    csv = open(\"news_audio.csv\", \"w+\") \n",
    "    columnTitleRow = \"start, end,text\\n\"\n",
    "    csv.write(columnTitleRow)\n",
    "    interval = 3 * 1000   \n",
    "    overlap = 0.5 * 1000 \n",
    "    start = 0\n",
    "    end = 0\n",
    "    flag = 0\n",
    "\n",
    "    for i in range(0, 2 * n, interval): \n",
    "        if i == 0: \n",
    "            start = 0\n",
    "            end = interval \n",
    "\n",
    "        else: \n",
    "            start = end - overlap \n",
    "            end = start + interval  \n",
    "\n",
    "        if end >= n: \n",
    "            end = n \n",
    "            flag = 1\n",
    "\n",
    "        chunk = audio[start:end] \n",
    "\n",
    "        filename = 'chunk'+str(counter)+'.wav'\n",
    "\n",
    "        chunk.export(filename, format =\"wav\") \n",
    "\n",
    "        print(\"Processing chunk \"+str(counter)+\". Start = \"\n",
    "                            +str(start)+\" end = \"+str(end)) \n",
    "\n",
    "        counter = counter + 1\n",
    "\n",
    "        AUDIO_FILE = filename \n",
    "\n",
    "        r = sr.Recognizer() \n",
    "\n",
    "        with sr.AudioFile(AUDIO_FILE) as source: \n",
    "            audio_listened = r.listen(source) \n",
    "\n",
    "        try:     \n",
    "            rec = r.recognize_google(audio_listened) \n",
    "            rec=rec.lower()\n",
    "            print(rec)\n",
    "            row = str(start)  + \",\" + str(end) +\",\"+ rec + \"\\n\"\n",
    "            csv.write(row)\n",
    "\n",
    "        except sr.UnknownValueError: \n",
    "            print(\"Could not understand audio\")  \n",
    "        except sr.RequestError as e: \n",
    "            print(\"Could not request results.\") \n",
    "\n",
    "        if flag == 1: \n",
    "            csv.close()\n",
    "            break\n",
    "   "
   ]
  },
  {
   "cell_type": "code",
   "execution_count": 2,
   "metadata": {},
   "outputs": [],
   "source": [
    "import csv\n",
    "def recognize(word):\n",
    "    f = open('news_audio.csv')\n",
    "    csv_f = csv.reader(f)\n",
    "    i=0\n",
    "    iden=0\n",
    "    for row in csv_f:\n",
    "        if(i!=0):\n",
    "            if word in row[2]:\n",
    "                r=float(row[0])\n",
    "                time1=r/1000\n",
    "                time2=int(time1/60)\n",
    "                time3=int(time1-(time2*60))\n",
    "                print(str(time2)+\" mins \"+str(time3)+\" secs \")\n",
    "                iden=1\n",
    "        i=i+1\n",
    "    if(iden==0):\n",
    "        print(\"searched text not present in the video\")"
   ]
  },
  {
   "cell_type": "code",
   "execution_count": null,
   "metadata": {},
   "outputs": [],
   "source": []
  },
  {
   "cell_type": "code",
   "execution_count": null,
   "metadata": {},
   "outputs": [],
   "source": []
  },
  {
   "cell_type": "code",
   "execution_count": 3,
   "metadata": {},
   "outputs": [
    {
     "name": "stdout",
     "output_type": "stream",
     "text": [
      "MoviePy - Writing audio in %s\n"
     ]
    },
    {
     "name": "stderr",
     "output_type": "stream",
     "text": [
      "                                                                                                                       \r"
     ]
    },
    {
     "name": "stdout",
     "output_type": "stream",
     "text": [
      "MoviePy - Done.\n",
      "Processing chunk 1. Start = 0 end = 3000\n",
      "Could not understand audio\n",
      "Processing chunk 2. Start = 2500.0 end = 5500.0\n",
      "Could not understand audio\n",
      "Processing chunk 3. Start = 5000.0 end = 8000.0\n",
      "Could not understand audio\n",
      "Processing chunk 4. Start = 7500.0 end = 10500.0\n",
      "224\n",
      "Processing chunk 5. Start = 10000.0 end = 13000.0\n",
      "stuck in traffic\n",
      "Processing chunk 6. Start = 12500.0 end = 15500.0\n",
      "Could not understand audio\n",
      "Processing chunk 7. Start = 15000.0 end = 18000.0\n",
      "prabhavit karti\n",
      "Processing chunk 8. Start = 17500.0 end = 20500.0\n",
      "safarnama\n",
      "Processing chunk 9. Start = 20000.0 end = 23000.0\n",
      "Could not understand audio\n",
      "Processing chunk 10. Start = 22500.0 end = 25500.0\n",
      "bethadoxin\n",
      "Processing chunk 11. Start = 25000.0 end = 28000.0\n",
      "Could not understand audio\n",
      "Processing chunk 12. Start = 27500.0 end = 30500.0\n",
      "bengali video\n",
      "Processing chunk 13. Start = 30000.0 end = 33000.0\n",
      "Could not understand audio\n",
      "Processing chunk 14. Start = 32500.0 end = 35500.0\n",
      "city life\n",
      "Processing chunk 15. Start = 35000.0 end = 38000.0\n",
      "quality\n",
      "Processing chunk 16. Start = 37500.0 end = 40500.0\n",
      "facebook new rule\n",
      "Processing chunk 17. Start = 40000.0 end = 43000.0\n",
      "computer\n",
      "Processing chunk 18. Start = 42500.0 end = 45500.0\n",
      "nightmare\n",
      "Processing chunk 19. Start = 45000.0 end = 48000.0\n",
      "cloth\n",
      "Processing chunk 20. Start = 47500.0 end = 50500.0\n",
      "duffer\n",
      "Processing chunk 21. Start = 50000.0 end = 53000.0\n",
      "karnataka capital\n",
      "Processing chunk 22. Start = 52500.0 end = 55500.0\n",
      "gridlock\n",
      "Processing chunk 23. Start = 55000.0 end = 58000.0\n",
      "voice bengaluru stuck in traffic\n",
      "Processing chunk 24. Start = 57500.0 end = 60500.0\n",
      "india today brings you\n",
      "Processing chunk 25. Start = 60000.0 end = 63000.0\n",
      "the real issue\n",
      "Processing chunk 26. Start = 62500.0 end = 65500.0\n",
      "Could not understand audio\n",
      "Processing chunk 27. Start = 65000.0 end = 68000.0\n",
      "breathing evolving to the. ram preeti choudhary\n",
      "Processing chunk 28. Start = 67500.0 end = 70500.0\n",
      "badri and bijoy new right now from mg road\n",
      "Processing chunk 29. Start = 70000.0 end = 73000.0\n",
      "the in bengaluru today\n",
      "Processing chunk 30. Start = 72500.0 end = 75500.0\n",
      "continue to get you the political juice of the karna\n",
      "Processing chunk 31. Start = 75000.0 end = 78000.0\n",
      "the karnataka electronics continues to get you the\n",
      "Processing chunk 32. Start = 77500.0 end = 80500.0\n",
      "you the very latest in terms of political rhetoric\n",
      "Processing chunk 33. Start = 80000.0 end = 83000.0\n",
      "we are going to get you to the cause of this\n",
      "Processing chunk 34. Start = 82500.0 end = 85500.0\n",
      "selection stories that matter\n",
      "Processing chunk 35. Start = 85000.0 end = 88000.0\n",
      "real story story that will make impact\n",
      "Processing chunk 36. Start = 87500.0 end = 90500.0\n",
      "fact on the citizens of this city\n",
      "Processing chunk 37. Start = 90000.0 end = 93000.0\n",
      "and one of them is traffic now\n",
      "Processing chunk 38. Start = 92500.0 end = 95500.0\n",
      "we coming from there and the\n",
      "Processing chunk 39. Start = 95000.0 end = 98000.0\n",
      "we came india drinking that we know traffic\n",
      "Processing chunk 40. Start = 97500.0 end = 100500.0\n",
      "traffic in delhi is a very very\n",
      "Processing chunk 41. Start = 100000.0 end = 103000.0\n",
      "read full story when you come down to bengaluru\n",
      "Processing chunk 42. Start = 102500.0 end = 105500.0\n",
      "restart the shoot covering traffic\n",
      "Processing chunk 43. Start = 105000.0 end = 108000.0\n",
      "traffic at about 8 a.m. today morning\n",
      "Processing chunk 44. Start = 107500.0 end = 110000\n",
      "we could barely reach three places to the\n",
      "searched text not present in the video\n"
     ]
    }
   ],
   "source": [
    "import sys\n",
    "from moviepy.editor import *\n",
    "\n",
    "video = VideoFileClip('news.mp4')\n",
    "audio_detection(video)\n"
   ]
  },
  {
   "cell_type": "code",
   "execution_count": 4,
   "metadata": {},
   "outputs": [
    {
     "name": "stdout",
     "output_type": "stream",
     "text": [
      "0 mins 32 secs \n",
      "1 mins 27 secs \n"
     ]
    }
   ],
   "source": [
    "word='city'\n",
    "recognize(word)"
   ]
  },
  {
   "cell_type": "code",
   "execution_count": null,
   "metadata": {},
   "outputs": [],
   "source": []
  },
  {
   "cell_type": "code",
   "execution_count": null,
   "metadata": {},
   "outputs": [],
   "source": []
  }
 ],
 "metadata": {
  "kernelspec": {
   "display_name": "Python 3",
   "language": "python",
   "name": "python3"
  },
  "language_info": {
   "codemirror_mode": {
    "name": "ipython",
    "version": 3
   },
   "file_extension": ".py",
   "mimetype": "text/x-python",
   "name": "python",
   "nbconvert_exporter": "python",
   "pygments_lexer": "ipython3",
   "version": "3.7.3"
  }
 },
 "nbformat": 4,
 "nbformat_minor": 2
}
