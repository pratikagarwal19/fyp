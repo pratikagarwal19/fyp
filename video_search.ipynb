{
 "cells": [
  {
   "cell_type": "code",
   "execution_count": 1,
   "metadata": {},
   "outputs": [
    {
     "name": "stdout",
     "output_type": "stream",
     "text": [
      "43.0 cat\n",
      "44.0 cat\n",
      "45.0 cat\n",
      "46.0 cat\n",
      "47.0 cat\n",
      "62.0 cat\n",
      "74.0 cat\n",
      "75.0 cat\n",
      "77.0 cat\n",
      "104.0 cat\n",
      "154.0 cat\n",
      "161.0 cat\n",
      "162.0 cat\n",
      "177.0 cat\n",
      "205.0 cat\n",
      "216.0 cat\n",
      "217.0 cat\n",
      "79.75 cat\n",
      "80.95833333333333 cat\n",
      "94.25 cat\n",
      "[0, 43.0, 44.0, 45.0, 46.0, 47.0, 62.0, 74.0, 75.0, 77.0, 79.75, 80.95833333333333, 94.25, 104.0, 154.0, 161.0, 162.0, 177.0, 205.0, 216.0, 217.0]\n",
      "[0, 43.0, 62.0, 74.0, 77.0, 79.75, 80.95833333333333, 94.25, 104.0, 154.0, 161.0, 177.0, 205.0, 216.0]\n"
     ]
    }
   ],
   "source": [
    "import csv\n",
    "v = open('objects.csv')\n",
    "csv_v = csv.reader(v)\n",
    "i=0\n",
    "word='cat'\n",
    "word.lower()\n",
    "iden=0\n",
    "index=0\n",
    "arr=[0]\n",
    "for row in csv_v:\n",
    "    #print(row[0])\n",
    "    r=str(row[0])\n",
    "    #print(r)\n",
    "    p=r.split('\\\\')\n",
    "    #print(p[1])\n",
    "    p=p[1].split('.')\n",
    "    #print(p[0])\n",
    "    time1=int(p[0])\n",
    "    time2=time1/24\n",
    "    \n",
    "    if(word==str(row[1])):\n",
    "        poo=0\n",
    "        for key in arr:\n",
    "            if(time2==key):\n",
    "                poo=1\n",
    "        if(poo==0):      \n",
    "            arr.append(time2)\n",
    "        print(str(time2)+\" \"+str(row[1]))\n",
    "arr.sort()\n",
    "print(arr)  \n",
    "occ=[0]\n",
    "g=0\n",
    "for i in arr:\n",
    "    if(g!=0):\n",
    "        p=arr[g-1]\n",
    "        \n",
    "        #print(p)\n",
    "        #print(i)\n",
    "        if(p!=i-1):\n",
    "            occ.append(i)\n",
    "    g=g+1\n",
    "print(occ)"
   ]
  },
  {
   "cell_type": "code",
   "execution_count": null,
   "metadata": {},
   "outputs": [],
   "source": []
  }
 ],
 "metadata": {
  "kernelspec": {
   "display_name": "Python 3",
   "language": "python",
   "name": "python3"
  },
  "language_info": {
   "codemirror_mode": {
    "name": "ipython",
    "version": 3
   },
   "file_extension": ".py",
   "mimetype": "text/x-python",
   "name": "python",
   "nbconvert_exporter": "python",
   "pygments_lexer": "ipython3",
   "version": "3.7.3"
  }
 },
 "nbformat": 4,
 "nbformat_minor": 2
}
