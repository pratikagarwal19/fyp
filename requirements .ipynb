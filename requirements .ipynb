{
 "cells": [
  {
   "cell_type": "code",
   "execution_count": 1,
   "metadata": {},
   "outputs": [
    {
     "name": "stdout",
     "output_type": "stream",
     "text": [
      "Requirement already satisfied: cython in c:\\users\\anush\\appdata\\local\\programs\\python\\python37\\lib\\site-packages (0.29.10)\n"
     ]
    },
    {
     "name": "stderr",
     "output_type": "stream",
     "text": [
      "You are using pip version 18.1, however version 19.1.1 is available.\n",
      "You should consider upgrading via the 'python -m pip install --upgrade pip' command.\n"
     ]
    }
   ],
   "source": [
    "! pip3 install cython"
   ]
  },
  {
   "cell_type": "code",
   "execution_count": 2,
   "metadata": {},
   "outputs": [
    {
     "name": "stdout",
     "output_type": "stream",
     "text": [
      "Requirement already satisfied: docopt in c:\\users\\anush\\appdata\\local\\programs\\python\\python37\\lib\\site-packages (0.6.2)\n"
     ]
    },
    {
     "name": "stderr",
     "output_type": "stream",
     "text": [
      "You are using pip version 18.1, however version 19.1.1 is available.\n",
      "You should consider upgrading via the 'python -m pip install --upgrade pip' command.\n"
     ]
    }
   ],
   "source": [
    "! pip3 install docopt"
   ]
  },
  {
   "cell_type": "code",
   "execution_count": 3,
   "metadata": {},
   "outputs": [
    {
     "name": "stdout",
     "output_type": "stream",
     "text": [
      "Requirement already satisfied: clint in c:\\users\\anush\\appdata\\local\\programs\\python\\python37\\lib\\site-packages (0.5.1)\n",
      "Requirement already satisfied: args in c:\\users\\anush\\appdata\\local\\programs\\python\\python37\\lib\\site-packages (from clint) (0.1.0)\n"
     ]
    },
    {
     "name": "stderr",
     "output_type": "stream",
     "text": [
      "You are using pip version 18.1, however version 19.1.1 is available.\n",
      "You should consider upgrading via the 'python -m pip install --upgrade pip' command.\n"
     ]
    }
   ],
   "source": [
    "! pip3 install clint"
   ]
  },
  {
   "cell_type": "code",
   "execution_count": 4,
   "metadata": {},
   "outputs": [
    {
     "name": "stdout",
     "output_type": "stream",
     "text": [
      "Requirement already satisfied: tablib in c:\\users\\anush\\appdata\\local\\programs\\python\\python37\\lib\\site-packages (0.13.0)\n",
      "Requirement already satisfied: xlrd in c:\\users\\anush\\appdata\\local\\programs\\python\\python37\\lib\\site-packages (from tablib) (1.2.0)\n",
      "Requirement already satisfied: odfpy in c:\\users\\anush\\appdata\\local\\programs\\python\\python37\\lib\\site-packages (from tablib) (1.4.0)\n",
      "Requirement already satisfied: xlwt in c:\\users\\anush\\appdata\\local\\programs\\python\\python37\\lib\\site-packages (from tablib) (1.3.0)\n",
      "Requirement already satisfied: pyyaml in c:\\users\\anush\\appdata\\local\\programs\\python\\python37\\lib\\site-packages (from tablib) (5.1.1)\n",
      "Requirement already satisfied: backports.csv in c:\\users\\anush\\appdata\\local\\programs\\python\\python37\\lib\\site-packages (from tablib) (1.0.7)\n",
      "Requirement already satisfied: openpyxl>=2.4.0 in c:\\users\\anush\\appdata\\local\\programs\\python\\python37\\lib\\site-packages (from tablib) (2.6.2)\n",
      "Requirement already satisfied: defusedxml in c:\\users\\anush\\appdata\\local\\programs\\python\\python37\\lib\\site-packages (from odfpy->tablib) (0.6.0)\n",
      "Requirement already satisfied: jdcal in c:\\users\\anush\\appdata\\local\\programs\\python\\python37\\lib\\site-packages (from openpyxl>=2.4.0->tablib) (1.4.1)\n",
      "Requirement already satisfied: et_xmlfile in c:\\users\\anush\\appdata\\local\\programs\\python\\python37\\lib\\site-packages (from openpyxl>=2.4.0->tablib) (1.0.1)\n"
     ]
    },
    {
     "name": "stderr",
     "output_type": "stream",
     "text": [
      "You are using pip version 18.1, however version 19.1.1 is available.\n",
      "You should consider upgrading via the 'python -m pip install --upgrade pip' command.\n"
     ]
    }
   ],
   "source": [
    "! pip3 install tablib"
   ]
  },
  {
   "cell_type": "code",
   "execution_count": 5,
   "metadata": {},
   "outputs": [
    {
     "name": "stdout",
     "output_type": "stream",
     "text": [
      "Requirement already satisfied: coco in c:\\users\\anush\\appdata\\local\\programs\\python\\python37\\lib\\site-packages (0.4.0)\n",
      "Requirement already satisfied: docopt in c:\\users\\anush\\appdata\\local\\programs\\python\\python37\\lib\\site-packages (from coco) (0.6.2)\n",
      "Requirement already satisfied: clint in c:\\users\\anush\\appdata\\local\\programs\\python\\python37\\lib\\site-packages (from coco) (0.5.1)\n",
      "Requirement already satisfied: python-crontab in c:\\users\\anush\\appdata\\local\\programs\\python\\python37\\lib\\site-packages (from coco) (2.3.6)\n",
      "Requirement already satisfied: tablib in c:\\users\\anush\\appdata\\local\\programs\\python\\python37\\lib\\site-packages (from coco) (0.13.0)\n",
      "Requirement already satisfied: args in c:\\users\\anush\\appdata\\local\\programs\\python\\python37\\lib\\site-packages (from clint->coco) (0.1.0)\n",
      "Requirement already satisfied: python-dateutil in c:\\users\\anush\\appdata\\local\\programs\\python\\python37\\lib\\site-packages (from python-crontab->coco) (2.8.0)\n",
      "Requirement already satisfied: pyyaml in c:\\users\\anush\\appdata\\local\\programs\\python\\python37\\lib\\site-packages (from tablib->coco) (5.1.1)\n",
      "Requirement already satisfied: backports.csv in c:\\users\\anush\\appdata\\local\\programs\\python\\python37\\lib\\site-packages (from tablib->coco) (1.0.7)\n",
      "Requirement already satisfied: odfpy in c:\\users\\anush\\appdata\\local\\programs\\python\\python37\\lib\\site-packages (from tablib->coco) (1.4.0)\n",
      "Requirement already satisfied: xlwt in c:\\users\\anush\\appdata\\local\\programs\\python\\python37\\lib\\site-packages (from tablib->coco) (1.3.0)\n",
      "Requirement already satisfied: openpyxl>=2.4.0 in c:\\users\\anush\\appdata\\local\\programs\\python\\python37\\lib\\site-packages (from tablib->coco) (2.6.2)\n",
      "Requirement already satisfied: xlrd in c:\\users\\anush\\appdata\\local\\programs\\python\\python37\\lib\\site-packages (from tablib->coco) (1.2.0)\n",
      "Requirement already satisfied: six>=1.5 in c:\\users\\anush\\appdata\\local\\programs\\python\\python37\\lib\\site-packages (from python-dateutil->python-crontab->coco) (1.12.0)\n",
      "Requirement already satisfied: defusedxml in c:\\users\\anush\\appdata\\local\\programs\\python\\python37\\lib\\site-packages (from odfpy->tablib->coco) (0.6.0)\n",
      "Requirement already satisfied: jdcal in c:\\users\\anush\\appdata\\local\\programs\\python\\python37\\lib\\site-packages (from openpyxl>=2.4.0->tablib->coco) (1.4.1)\n",
      "Requirement already satisfied: et_xmlfile in c:\\users\\anush\\appdata\\local\\programs\\python\\python37\\lib\\site-packages (from openpyxl>=2.4.0->tablib->coco) (1.0.1)\n"
     ]
    },
    {
     "name": "stderr",
     "output_type": "stream",
     "text": [
      "You are using pip version 18.1, however version 19.1.1 is available.\n",
      "You should consider upgrading via the 'python -m pip install --upgrade pip' command.\n"
     ]
    }
   ],
   "source": [
    "! pip3 install coco"
   ]
  },
  {
   "cell_type": "code",
   "execution_count": 7,
   "metadata": {},
   "outputs": [
    {
     "name": "stdout",
     "output_type": "stream",
     "text": [
      "Requirement already satisfied: scikit-image in c:\\users\\anush\\anaconda3\\lib\\site-packages (0.14.2)\n",
      "Requirement already satisfied: matplotlib>=2.0.0 in c:\\users\\anush\\anaconda3\\lib\\site-packages (from scikit-image) (3.0.3)\n",
      "Requirement already satisfied: networkx>=1.8 in c:\\users\\anush\\anaconda3\\lib\\site-packages (from scikit-image) (2.2)\n",
      "Requirement already satisfied: six>=1.10.0 in c:\\users\\anush\\anaconda3\\lib\\site-packages (from scikit-image) (1.12.0)\n",
      "Requirement already satisfied: pillow>=4.3.0 in c:\\users\\anush\\anaconda3\\lib\\site-packages (from scikit-image) (5.4.1)\n",
      "Requirement already satisfied: PyWavelets>=0.4.0 in c:\\users\\anush\\anaconda3\\lib\\site-packages (from scikit-image) (1.0.2)\n",
      "Requirement already satisfied: dask[array]>=1.0.0 in c:\\users\\anush\\anaconda3\\lib\\site-packages (from scikit-image) (1.1.4)\n",
      "Requirement already satisfied: cloudpickle>=0.2.1 in c:\\users\\anush\\anaconda3\\lib\\site-packages (from scikit-image) (0.8.0)\n",
      "Requirement already satisfied: numpy>=1.10.0 in c:\\users\\anush\\anaconda3\\lib\\site-packages (from matplotlib>=2.0.0->scikit-image) (1.16.4)\n",
      "Requirement already satisfied: cycler>=0.10 in c:\\users\\anush\\anaconda3\\lib\\site-packages (from matplotlib>=2.0.0->scikit-image) (0.10.0)\n",
      "Requirement already satisfied: kiwisolver>=1.0.1 in c:\\users\\anush\\anaconda3\\lib\\site-packages (from matplotlib>=2.0.0->scikit-image) (1.0.1)\n",
      "Requirement already satisfied: pyparsing!=2.0.4,!=2.1.2,!=2.1.6,>=2.0.1 in c:\\users\\anush\\anaconda3\\lib\\site-packages (from matplotlib>=2.0.0->scikit-image) (2.3.1)\n",
      "Requirement already satisfied: python-dateutil>=2.1 in c:\\users\\anush\\anaconda3\\lib\\site-packages (from matplotlib>=2.0.0->scikit-image) (2.8.0)\n",
      "Requirement already satisfied: decorator>=4.3.0 in c:\\users\\anush\\anaconda3\\lib\\site-packages (from networkx>=1.8->scikit-image) (4.4.0)\n",
      "Requirement already satisfied: toolz>=0.7.3; extra == \"array\" in c:\\users\\anush\\anaconda3\\lib\\site-packages (from dask[array]>=1.0.0->scikit-image) (0.9.0)\n",
      "Requirement already satisfied: setuptools in c:\\users\\anush\\anaconda3\\lib\\site-packages (from kiwisolver>=1.0.1->matplotlib>=2.0.0->scikit-image) (40.8.0)\n"
     ]
    }
   ],
   "source": [
    "! pip install scikit-image"
   ]
  },
  {
   "cell_type": "code",
   "execution_count": 8,
   "metadata": {},
   "outputs": [
    {
     "name": "stdout",
     "output_type": "stream",
     "text": [
      "Requirement already satisfied: opencv-python in c:\\users\\anush\\anaconda3\\lib\\site-packages (4.1.0.25)\n",
      "Requirement already satisfied: numpy>=1.14.5 in c:\\users\\anush\\anaconda3\\lib\\site-packages (from opencv-python) (1.16.4)\n"
     ]
    }
   ],
   "source": [
    "! pip install opencv-python"
   ]
  },
  {
   "cell_type": "code",
   "execution_count": 9,
   "metadata": {},
   "outputs": [
    {
     "name": "stdout",
     "output_type": "stream",
     "text": [
      "Collecting h5py\n",
      "  Downloading https://files.pythonhosted.org/packages/4f/1e/89aa610afce8df6fd1f12647600a05e902238587ae6375442a3164b59d51/h5py-2.9.0-cp37-cp37m-win_amd64.whl (2.4MB)\n",
      "Requirement already satisfied: six in c:\\users\\anush\\appdata\\local\\programs\\python\\python37\\lib\\site-packages (from h5py) (1.12.0)\n",
      "Collecting numpy>=1.7 (from h5py)\n",
      "  Using cached https://files.pythonhosted.org/packages/ce/61/be72eee50f042db3acf0b1fb86650ad36d6c0d9be9fc29f8505d3b9d6baa/numpy-1.16.4-cp37-cp37m-win_amd64.whl\n",
      "Installing collected packages: numpy, h5py\n",
      "Successfully installed h5py-2.9.0 numpy-1.16.4\n"
     ]
    },
    {
     "name": "stderr",
     "output_type": "stream",
     "text": [
      "You are using pip version 18.1, however version 19.1.1 is available.\n",
      "You should consider upgrading via the 'python -m pip install --upgrade pip' command.\n"
     ]
    }
   ],
   "source": [
    "! pip3 install h5py"
   ]
  },
  {
   "cell_type": "code",
   "execution_count": 12,
   "metadata": {},
   "outputs": [
    {
     "name": "stdout",
     "output_type": "stream",
     "text": [
      "Collecting setuptools\n",
      "  Downloading https://files.pythonhosted.org/packages/ec/51/f45cea425fd5cb0b0380f5b0f048ebc1da5b417e48d304838c02d6288a1e/setuptools-41.0.1-py2.py3-none-any.whl (575kB)\n",
      "Installing collected packages: setuptools\n",
      "  Found existing installation: setuptools 40.8.0\n",
      "    Uninstalling setuptools-40.8.0:\n",
      "      Successfully uninstalled setuptools-40.8.0\n",
      "Successfully installed setuptools-41.0.1\n"
     ]
    }
   ],
   "source": [
    "! pip install --upgrade setuptools"
   ]
  },
  {
   "cell_type": "code",
   "execution_count": 14,
   "metadata": {},
   "outputs": [
    {
     "name": "stdout",
     "output_type": "stream",
     "text": [
      "Collecting pip\n",
      "  Downloading https://files.pythonhosted.org/packages/5c/e0/be401c003291b56efc55aeba6a80ab790d3d4cece2778288d65323009420/pip-19.1.1-py2.py3-none-any.whl (1.4MB)\n",
      "Installing collected packages: pip\n",
      "  Found existing installation: pip 19.0.3\n",
      "    Uninstalling pip-19.0.3:\n",
      "      Successfully uninstalled pip-19.0.3\n"
     ]
    },
    {
     "name": "stderr",
     "output_type": "stream",
     "text": [
      "Could not install packages due to an EnvironmentError: [WinError 5] Access is denied: 'C:\\\\Users\\\\anush\\\\AppData\\\\Local\\\\Temp\\\\pip-uninstall-f1qx4w2x\\\\pip.exe'\n",
      "Consider using the `--user` option or check the permissions.\n",
      "\n"
     ]
    }
   ],
   "source": [
    "! pip install --upgrade pip"
   ]
  },
  {
   "cell_type": "code",
   "execution_count": 3,
   "metadata": {},
   "outputs": [
    {
     "name": "stdout",
     "output_type": "stream",
     "text": [
      "Collecting pycocotools from git+https://github.com/philferriere/cocoapi.git#egg=pycocotools&subdirectory=PythonAPI\n",
      "  Cloning https://github.com/philferriere/cocoapi.git to c:\\users\\anush\\appdata\\local\\temp\\pip-install-xk6ynlh8\\pycocotools\n",
      "Building wheels for collected packages: pycocotools\n",
      "  Building wheel for pycocotools (setup.py): started\n",
      "  Building wheel for pycocotools (setup.py): finished with status 'done'\n",
      "  Stored in directory: C:\\Users\\anush\\AppData\\Local\\Temp\\pip-ephem-wheel-cache-y73tie33\\wheels\\69\\2b\\12\\2fa959e49f73d26cff202c2f4e5079096c9c57c8a8509fd75c\n",
      "Successfully built pycocotools\n",
      "Installing collected packages: pycocotools\n",
      "Successfully installed pycocotools-2.0\n",
      "Note: you may need to restart the kernel to use updated packages.\n"
     ]
    },
    {
     "name": "stderr",
     "output_type": "stream",
     "text": [
      "  Running command git clone -q https://github.com/philferriere/cocoapi.git 'C:\\Users\\anush\\AppData\\Local\\Temp\\pip-install-xk6ynlh8\\pycocotools'\n"
     ]
    }
   ],
   "source": [
    "pip install git+https://github.com/philferriere/cocoapi.git#egg=pycocotools^&subdirectory=PythonAPI"
   ]
  },
  {
   "cell_type": "code",
   "execution_count": 1,
   "metadata": {},
   "outputs": [
    {
     "name": "stdout",
     "output_type": "stream",
     "text": [
      "Collecting utils\n"
     ]
    },
    {
     "name": "stderr",
     "output_type": "stream",
     "text": [
      "  WARNING: Retrying (Retry(total=4, connect=None, read=None, redirect=None, status=None)) after connection broken by 'NewConnectionError('<pip._vendor.urllib3.connection.VerifiedHTTPSConnection object at 0x000001B2CE72A780>: Failed to establish a new connection: [Errno 11001] getaddrinfo failed')': /simple/utils/\n",
      "  WARNING: Retrying (Retry(total=3, connect=None, read=None, redirect=None, status=None)) after connection broken by 'NewConnectionError('<pip._vendor.urllib3.connection.VerifiedHTTPSConnection object at 0x000001B2CE72A5C0>: Failed to establish a new connection: [Errno 11001] getaddrinfo failed')': /simple/utils/\n",
      "  WARNING: Retrying (Retry(total=2, connect=None, read=None, redirect=None, status=None)) after connection broken by 'NewConnectionError('<pip._vendor.urllib3.connection.VerifiedHTTPSConnection object at 0x000001B2CE72A518>: Failed to establish a new connection: [Errno 11001] getaddrinfo failed')': /simple/utils/\n",
      "  WARNING: Retrying (Retry(total=1, connect=None, read=None, redirect=None, status=None)) after connection broken by 'NewConnectionError('<pip._vendor.urllib3.connection.VerifiedHTTPSConnection object at 0x000001B2CE72A4E0>: Failed to establish a new connection: [Errno 11001] getaddrinfo failed')': /simple/utils/\n",
      "  WARNING: Retrying (Retry(total=0, connect=None, read=None, redirect=None, status=None)) after connection broken by 'NewConnectionError('<pip._vendor.urllib3.connection.VerifiedHTTPSConnection object at 0x000001B2CE72A630>: Failed to establish a new connection: [Errno 11001] getaddrinfo failed')': /simple/utils/\n",
      "  ERROR: Could not find a version that satisfies the requirement utils (from versions: none)\n",
      "ERROR: No matching distribution found for utils\n"
     ]
    }
   ],
   "source": [
    "! pip install utils"
   ]
  },
  {
   "cell_type": "code",
   "execution_count": 1,
   "metadata": {},
   "outputs": [
    {
     "name": "stdout",
     "output_type": "stream",
     "text": [
      "Collecting googletrans\n",
      "  Downloading https://files.pythonhosted.org/packages/fd/f0/a22d41d3846d1f46a4f20086141e0428ccc9c6d644aacbfd30990cf46886/googletrans-2.4.0.tar.gz\n",
      "Requirement already satisfied: requests in c:\\users\\anush\\anaconda3\\lib\\site-packages (from googletrans) (2.21.0)\n",
      "Requirement already satisfied: chardet<3.1.0,>=3.0.2 in c:\\users\\anush\\anaconda3\\lib\\site-packages (from requests->googletrans) (3.0.4)\n",
      "Requirement already satisfied: urllib3<1.25,>=1.21.1 in c:\\users\\anush\\anaconda3\\lib\\site-packages (from requests->googletrans) (1.24.1)\n",
      "Requirement already satisfied: idna<2.9,>=2.5 in c:\\users\\anush\\anaconda3\\lib\\site-packages (from requests->googletrans) (2.8)\n",
      "Requirement already satisfied: certifi>=2017.4.17 in c:\\users\\anush\\anaconda3\\lib\\site-packages (from requests->googletrans) (2019.6.16)\n",
      "Building wheels for collected packages: googletrans\n",
      "  Building wheel for googletrans (setup.py): started\n",
      "  Building wheel for googletrans (setup.py): finished with status 'done'\n",
      "  Stored in directory: C:\\Users\\anush\\AppData\\Local\\pip\\Cache\\wheels\\50\\d6\\e7\\a8efd5f2427d5eb258070048718fa56ee5ac57fd6f53505f95\n",
      "Successfully built googletrans\n",
      "Installing collected packages: googletrans\n",
      "Successfully installed googletrans-2.4.0\n"
     ]
    },
    {
     "name": "stderr",
     "output_type": "stream",
     "text": [
      "WARNING: You are using pip version 19.1.1, however version 19.2.3 is available.\n",
      "You should consider upgrading via the 'python -m pip install --upgrade pip' command.\n"
     ]
    }
   ],
   "source": [
    "! pip install googletrans"
   ]
  },
  {
   "cell_type": "code",
   "execution_count": null,
   "metadata": {},
   "outputs": [],
   "source": []
  }
 ],
 "metadata": {
  "kernelspec": {
   "display_name": "Python 3",
   "language": "python",
   "name": "python3"
  },
  "language_info": {
   "codemirror_mode": {
    "name": "ipython",
    "version": 3
   },
   "file_extension": ".py",
   "mimetype": "text/x-python",
   "name": "python",
   "nbconvert_exporter": "python",
   "pygments_lexer": "ipython3",
   "version": "3.7.3"
  }
 },
 "nbformat": 4,
 "nbformat_minor": 2
}
