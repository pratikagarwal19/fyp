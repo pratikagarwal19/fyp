{
 "cells": [
  {
   "cell_type": "code",
   "execution_count": 1,
   "metadata": {},
   "outputs": [
    {
     "name": "stdout",
     "output_type": "stream",
     "text": [
      "MoviePy - Writing audio in %s\n"
     ]
    },
    {
     "name": "stderr",
     "output_type": "stream",
     "text": [
      "                                                                                                                       \r"
     ]
    },
    {
     "name": "stdout",
     "output_type": "stream",
     "text": [
      "MoviePy - Done.\n"
     ]
    }
   ],
   "source": [
    "import sys\n",
    "from moviepy.editor import *\n",
    "\n",
    "video = VideoFileClip('megann.mp4')\n",
    "audio = video.audio\n",
    "audio.write_audiofile('test1.wav')"
   ]
  },
  {
   "cell_type": "code",
   "execution_count": 1,
   "metadata": {},
   "outputs": [
    {
     "name": "stderr",
     "output_type": "stream",
     "text": [
      "C:\\Users\\anush\\Anaconda3\\lib\\site-packages\\pydub\\utils.py:165: RuntimeWarning: Couldn't find ffmpeg or avconv - defaulting to ffmpeg, but may not work\n",
      "  warn(\"Couldn't find ffmpeg or avconv - defaulting to ffmpeg, but may not work\", RuntimeWarning)\n"
     ]
    },
    {
     "name": "stdout",
     "output_type": "stream",
     "text": [
      "Processing chunk 1. Start = 0 end = 3000\n",
      "hello friends\n",
      "Processing chunk 2. Start = 2500.0 end = 5500.0\n",
      "rain is liquid water in the form of droplets\n",
      "Processing chunk 3. Start = 5000.0 end = 8000.0\n",
      "chocolates that have content from it\n",
      "Processing chunk 4. Start = 7500.0 end = 10500.0\n",
      "atmospheric water vapour and\n",
      "Processing chunk 5. Start = 10000.0 end = 13000.0\n",
      "and then become heavy enough to fall\n",
      "Processing chunk 6. Start = 12500.0 end = 15500.0\n",
      "under gravity rain is a major\n",
      "Processing chunk 7. Start = 15000.0 end = 18000.0\n",
      "component of the water cycle and is responsive\n",
      "Processing chunk 8. Start = 17500.0 end = 20500.0\n",
      "constable for depositing most of the\n",
      "Processing chunk 9. Start = 20000.0 end = 23000.0\n",
      "fresh water on the earth it provide\n",
      "Processing chunk 10. Start = 22500.0 end = 25500.0\n",
      "suitable conditions for many type of\n",
      "Processing chunk 11. Start = 25000.0 end = 28000.0\n",
      "type of ecosystems as well as water\n",
      "Processing chunk 12. Start = 27500.0 end = 30500.0\n",
      "water for hydroelectric power plant\n",
      "Processing chunk 13. Start = 30000.0 end = 33000.0\n",
      "micro irrigation the major cost\n",
      "Processing chunk 14. Start = 32500.0 end = 35500.0\n",
      "cause of rain production is moisture\n",
      "Processing chunk 15. Start = 35000.0 end = 38000.0\n",
      "moving along three dimensional zones of\n",
      "Processing chunk 16. Start = 37500.0 end = 40500.0\n",
      "temperature and moisture contrasts\n",
      "Processing chunk 17. Start = 40000.0 end = 43000.0\n",
      "known as weather fronts\n",
      "Processing chunk 18. Start = 42500.0 end = 45500.0\n",
      "it is enough moisture and upon\n",
      "Processing chunk 19. Start = 45000.0 end = 48000.0\n",
      "motion is present precipitate\n",
      "Processing chunk 20. Start = 47500.0 end = 50500.0\n",
      "quotation falls from convective clouds\n",
      "Processing chunk 21. Start = 50000.0 end = 53000.0\n",
      "such as thunder\n",
      "Processing chunk 22. Start = 52500.0 end = 55500.0\n",
      "thunderclouds which can organise into\n",
      "Processing chunk 23. Start = 55000.0 end = 58000.0\n",
      "narrow rain back in mountainous area\n",
      "Processing chunk 24. Start = 57500.0 end = 60500.0\n",
      "heavy precipitation is\n",
      "Processing chunk 25. Start = 60000.0 end = 63000.0\n",
      "possible where upslope floor is\n",
      "Processing chunk 26. Start = 62500.0 end = 65500.0\n",
      "maximize within\n",
      "Processing chunk 27. Start = 65000.0 end = 68000.0\n",
      "update train at elevation\n",
      "Processing chunk 28. Start = 67500.0 end = 70500.0\n",
      "which causes most of the air to come\n",
      "Processing chunk 29. Start = 70000.0 end = 73000.0\n",
      "to content and call out as rainfall along\n",
      "Processing chunk 30. Start = 72500.0 end = 75498\n",
      "along the sides of the mountain thank you\n"
     ]
    }
   ],
   "source": [
    "from pydub import AudioSegment \n",
    "import speech_recognition as sr \n",
    "import csv\n",
    "\n",
    "audio = AudioSegment.from_wav(\"test1.wav\")  \n",
    "n = len(audio) \n",
    "counter = 1\n",
    "   \n",
    "fh = open(\"testtt.txt\", \"w+\") \n",
    "csv = open(\"testtt.csv\", \"w+\") \n",
    "columnTitleRow = \"start, end,text\\n\"\n",
    "csv.write(columnTitleRow)\n",
    "interval = 3 * 1000   \n",
    "overlap = 0.5 * 1000 \n",
    "start = 0\n",
    "end = 0\n",
    "flag = 0\n",
    "\n",
    "for i in range(0, 2 * n, interval): \n",
    "    if i == 0: \n",
    "        start = 0\n",
    "        end = interval \n",
    "\n",
    "    else: \n",
    "        start = end - overlap \n",
    "        end = start + interval  \n",
    "   \n",
    "    if end >= n: \n",
    "        end = n \n",
    "        flag = 1\n",
    "        \n",
    "    chunk = audio[start:end] \n",
    "   \n",
    "    filename = 'chunk'+str(counter)+'.wav'\n",
    "  \n",
    "    chunk.export(filename, format =\"wav\") \n",
    "\n",
    "    print(\"Processing chunk \"+str(counter)+\". Start = \"\n",
    "                        +str(start)+\" end = \"+str(end)) \n",
    "  \n",
    "    counter = counter + 1\n",
    "  \n",
    "    AUDIO_FILE = filename \n",
    "  \n",
    "    r = sr.Recognizer() \n",
    "  \n",
    "    with sr.AudioFile(AUDIO_FILE) as source: \n",
    "        audio_listened = r.listen(source) \n",
    "        \n",
    "    try:     \n",
    "        rec = r.recognize_google(audio_listened) \n",
    "        rec=rec.lower()\n",
    "        print(rec)\n",
    "        row = str(start)  + \",\" + str(end) +\",\"+ rec + \"\\n\"\n",
    "        csv.write(row)\n",
    "      \n",
    "    except sr.UnknownValueError: \n",
    "        print(\"Could not understand audio\")  \n",
    "    except sr.RequestError as e: \n",
    "        print(\"Could not request results.\") \n",
    "     \n",
    "    if flag == 1: \n",
    "        fh.close() \n",
    "        csv.close()\n",
    "        break\n"
   ]
  },
  {
   "cell_type": "code",
   "execution_count": 4,
   "metadata": {},
   "outputs": [
    {
     "name": "stdout",
     "output_type": "stream",
     "text": [
      "0 mins 2 secs \n",
      "0 mins 7 secs \n",
      "0 mins 15 secs \n",
      "0 mins 20 secs \n",
      "0 mins 25 secs \n",
      "0 mins 27 secs \n"
     ]
    }
   ],
   "source": [
    "import csv\n",
    "word='water'\n",
    "word=word.lower()\n",
    "f = open('testtt.csv')\n",
    "csv_f = csv.reader(f)\n",
    "i=0\n",
    "for row in csv_f:\n",
    "    if(i!=0):\n",
    "        if word in row[2]:\n",
    "            r=float(row[0])\n",
    "            time1=r/1000\n",
    "            time2=int(time1/60)\n",
    "            time3=int(time1-(time2*60))\n",
    "            print(str(time2)+\" mins \"+str(time3)+\" secs \")\n",
    "    i=i+1\n"
   ]
  },
  {
   "cell_type": "code",
   "execution_count": null,
   "metadata": {},
   "outputs": [],
   "source": []
  },
  {
   "cell_type": "code",
   "execution_count": null,
   "metadata": {},
   "outputs": [],
   "source": []
  },
  {
   "cell_type": "code",
   "execution_count": null,
   "metadata": {},
   "outputs": [],
   "source": []
  },
  {
   "cell_type": "code",
   "execution_count": null,
   "metadata": {},
   "outputs": [],
   "source": []
  }
 ],
 "metadata": {
  "kernelspec": {
   "display_name": "Python 3",
   "language": "python",
   "name": "python3"
  },
  "language_info": {
   "codemirror_mode": {
    "name": "ipython",
    "version": 3
   },
   "file_extension": ".py",
   "mimetype": "text/x-python",
   "name": "python",
   "nbconvert_exporter": "python",
   "pygments_lexer": "ipython3",
   "version": "3.7.3"
  }
 },
 "nbformat": 4,
 "nbformat_minor": 2
}
